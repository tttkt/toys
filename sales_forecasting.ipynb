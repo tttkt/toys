{
 "cells": [
  {
   "cell_type": "code",
   "execution_count": 1,
   "metadata": {},
   "outputs": [],
   "source": [
    "#playing with https://www.kaggle.com/c/demand-forecasting-kernels-only\n",
    "#todo\n",
    "#-one-hot tuning"
   ]
  },
  {
   "cell_type": "code",
   "execution_count": null,
   "metadata": {},
   "outputs": [],
   "source": [
    "import numpy as np\n",
    "import pandas as pd"
   ]
  },
  {
   "cell_type": "code",
   "execution_count": 9,
   "metadata": {},
   "outputs": [],
   "source": [
    "data = pd.read_csv('train_sales.csv')"
   ]
  },
  {
   "cell_type": "code",
   "execution_count": 15,
   "metadata": {},
   "outputs": [
    {
     "data": {
      "text/html": [
       "<div>\n",
       "<style scoped>\n",
       "    .dataframe tbody tr th:only-of-type {\n",
       "        vertical-align: middle;\n",
       "    }\n",
       "\n",
       "    .dataframe tbody tr th {\n",
       "        vertical-align: top;\n",
       "    }\n",
       "\n",
       "    .dataframe thead th {\n",
       "        text-align: right;\n",
       "    }\n",
       "</style>\n",
       "<table border=\"1\" class=\"dataframe\">\n",
       "  <thead>\n",
       "    <tr style=\"text-align: right;\">\n",
       "      <th></th>\n",
       "      <th>date</th>\n",
       "      <th>store</th>\n",
       "      <th>item</th>\n",
       "      <th>sales</th>\n",
       "    </tr>\n",
       "  </thead>\n",
       "  <tbody>\n",
       "    <tr>\n",
       "      <th>0</th>\n",
       "      <td>2013-01-01</td>\n",
       "      <td>1</td>\n",
       "      <td>1</td>\n",
       "      <td>13</td>\n",
       "    </tr>\n",
       "    <tr>\n",
       "      <th>1</th>\n",
       "      <td>2013-01-02</td>\n",
       "      <td>1</td>\n",
       "      <td>1</td>\n",
       "      <td>11</td>\n",
       "    </tr>\n",
       "    <tr>\n",
       "      <th>2</th>\n",
       "      <td>2013-01-03</td>\n",
       "      <td>1</td>\n",
       "      <td>1</td>\n",
       "      <td>14</td>\n",
       "    </tr>\n",
       "    <tr>\n",
       "      <th>3</th>\n",
       "      <td>2013-01-04</td>\n",
       "      <td>1</td>\n",
       "      <td>1</td>\n",
       "      <td>13</td>\n",
       "    </tr>\n",
       "    <tr>\n",
       "      <th>4</th>\n",
       "      <td>2013-01-05</td>\n",
       "      <td>1</td>\n",
       "      <td>1</td>\n",
       "      <td>10</td>\n",
       "    </tr>\n",
       "  </tbody>\n",
       "</table>\n",
       "</div>"
      ],
      "text/plain": [
       "         date  store  item  sales\n",
       "0  2013-01-01      1     1     13\n",
       "1  2013-01-02      1     1     11\n",
       "2  2013-01-03      1     1     14\n",
       "3  2013-01-04      1     1     13\n",
       "4  2013-01-05      1     1     10"
      ]
     },
     "execution_count": 15,
     "metadata": {},
     "output_type": "execute_result"
    }
   ],
   "source": [
    "data.head()"
   ]
  },
  {
   "cell_type": "code",
   "execution_count": 11,
   "metadata": {},
   "outputs": [
    {
     "data": {
      "text/plain": [
       "(913000, 4)"
      ]
     },
     "execution_count": 11,
     "metadata": {},
     "output_type": "execute_result"
    }
   ],
   "source": [
    "data.shape"
   ]
  },
  {
   "cell_type": "code",
   "execution_count": 12,
   "metadata": {},
   "outputs": [
    {
     "data": {
      "text/plain": [
       "10    91300\n",
       "9     91300\n",
       "8     91300\n",
       "7     91300\n",
       "6     91300\n",
       "5     91300\n",
       "4     91300\n",
       "3     91300\n",
       "2     91300\n",
       "1     91300\n",
       "Name: store, dtype: int64"
      ]
     },
     "execution_count": 12,
     "metadata": {},
     "output_type": "execute_result"
    }
   ],
   "source": [
    "#10개 스토어, 50개 아이템, 2013-01-01 부터 18260 days, sales\n",
    "data['store'].value_counts()"
   ]
  },
  {
   "cell_type": "code",
   "execution_count": 50,
   "metadata": {},
   "outputs": [],
   "source": [
    "t = '2013-01-01'"
   ]
  },
  {
   "cell_type": "code",
   "execution_count": 34,
   "metadata": {},
   "outputs": [
    {
     "data": {
      "text/plain": [
       "['2013', '01', '01']"
      ]
     },
     "execution_count": 34,
     "metadata": {},
     "output_type": "execute_result"
    }
   ],
   "source": [
    "t[0].split('-')"
   ]
  },
  {
   "cell_type": "code",
   "execution_count": 49,
   "metadata": {},
   "outputs": [],
   "source": [
    "from datetime import datetime\n",
    "#a = data['date'].str.split('-')"
   ]
  },
  {
   "cell_type": "code",
   "execution_count": 56,
   "metadata": {},
   "outputs": [
    {
     "data": {
      "text/plain": [
       "2013"
      ]
     },
     "execution_count": 56,
     "metadata": {},
     "output_type": "execute_result"
    }
   ],
   "source": [
    "datetime.strptime(t, '%Y-%m-%d').year"
   ]
  },
  {
   "cell_type": "code",
   "execution_count": 64,
   "metadata": {},
   "outputs": [],
   "source": [
    "data['year'] = pd.to_datetime(data['date']).dt.year\n",
    "data['month'] = pd.to_datetime(data['date']).dt.month\n",
    "data['day'] = pd.to_datetime(data['date']).dt.day"
   ]
  },
  {
   "cell_type": "code",
   "execution_count": 65,
   "metadata": {},
   "outputs": [
    {
     "data": {
      "text/html": [
       "<div>\n",
       "<style scoped>\n",
       "    .dataframe tbody tr th:only-of-type {\n",
       "        vertical-align: middle;\n",
       "    }\n",
       "\n",
       "    .dataframe tbody tr th {\n",
       "        vertical-align: top;\n",
       "    }\n",
       "\n",
       "    .dataframe thead th {\n",
       "        text-align: right;\n",
       "    }\n",
       "</style>\n",
       "<table border=\"1\" class=\"dataframe\">\n",
       "  <thead>\n",
       "    <tr style=\"text-align: right;\">\n",
       "      <th></th>\n",
       "      <th>date</th>\n",
       "      <th>store</th>\n",
       "      <th>item</th>\n",
       "      <th>sales</th>\n",
       "      <th>year</th>\n",
       "      <th>month</th>\n",
       "      <th>day</th>\n",
       "    </tr>\n",
       "  </thead>\n",
       "  <tbody>\n",
       "    <tr>\n",
       "      <th>0</th>\n",
       "      <td>2013-01-01</td>\n",
       "      <td>1</td>\n",
       "      <td>1</td>\n",
       "      <td>13</td>\n",
       "      <td>2013</td>\n",
       "      <td>1</td>\n",
       "      <td>1</td>\n",
       "    </tr>\n",
       "    <tr>\n",
       "      <th>1</th>\n",
       "      <td>2013-01-02</td>\n",
       "      <td>1</td>\n",
       "      <td>1</td>\n",
       "      <td>11</td>\n",
       "      <td>2013</td>\n",
       "      <td>1</td>\n",
       "      <td>2</td>\n",
       "    </tr>\n",
       "    <tr>\n",
       "      <th>2</th>\n",
       "      <td>2013-01-03</td>\n",
       "      <td>1</td>\n",
       "      <td>1</td>\n",
       "      <td>14</td>\n",
       "      <td>2013</td>\n",
       "      <td>1</td>\n",
       "      <td>3</td>\n",
       "    </tr>\n",
       "    <tr>\n",
       "      <th>3</th>\n",
       "      <td>2013-01-04</td>\n",
       "      <td>1</td>\n",
       "      <td>1</td>\n",
       "      <td>13</td>\n",
       "      <td>2013</td>\n",
       "      <td>1</td>\n",
       "      <td>4</td>\n",
       "    </tr>\n",
       "    <tr>\n",
       "      <th>4</th>\n",
       "      <td>2013-01-05</td>\n",
       "      <td>1</td>\n",
       "      <td>1</td>\n",
       "      <td>10</td>\n",
       "      <td>2013</td>\n",
       "      <td>1</td>\n",
       "      <td>5</td>\n",
       "    </tr>\n",
       "  </tbody>\n",
       "</table>\n",
       "</div>"
      ],
      "text/plain": [
       "         date  store  item  sales  year  month  day\n",
       "0  2013-01-01      1     1     13  2013      1    1\n",
       "1  2013-01-02      1     1     11  2013      1    2\n",
       "2  2013-01-03      1     1     14  2013      1    3\n",
       "3  2013-01-04      1     1     13  2013      1    4\n",
       "4  2013-01-05      1     1     10  2013      1    5"
      ]
     },
     "execution_count": 65,
     "metadata": {},
     "output_type": "execute_result"
    }
   ],
   "source": [
    "data.head()"
   ]
  },
  {
   "cell_type": "code",
   "execution_count": 66,
   "metadata": {},
   "outputs": [],
   "source": [
    "data_input = data[['year', 'month', 'day', 'store', 'item']]\n",
    "data_label = data['sales']"
   ]
  },
  {
   "cell_type": "code",
   "execution_count": 68,
   "metadata": {},
   "outputs": [
    {
     "data": {
      "text/html": [
       "<div>\n",
       "<style scoped>\n",
       "    .dataframe tbody tr th:only-of-type {\n",
       "        vertical-align: middle;\n",
       "    }\n",
       "\n",
       "    .dataframe tbody tr th {\n",
       "        vertical-align: top;\n",
       "    }\n",
       "\n",
       "    .dataframe thead th {\n",
       "        text-align: right;\n",
       "    }\n",
       "</style>\n",
       "<table border=\"1\" class=\"dataframe\">\n",
       "  <thead>\n",
       "    <tr style=\"text-align: right;\">\n",
       "      <th></th>\n",
       "      <th>year</th>\n",
       "      <th>month</th>\n",
       "      <th>day</th>\n",
       "      <th>store</th>\n",
       "      <th>item</th>\n",
       "    </tr>\n",
       "  </thead>\n",
       "  <tbody>\n",
       "    <tr>\n",
       "      <th>0</th>\n",
       "      <td>2013</td>\n",
       "      <td>1</td>\n",
       "      <td>1</td>\n",
       "      <td>1</td>\n",
       "      <td>1</td>\n",
       "    </tr>\n",
       "    <tr>\n",
       "      <th>1</th>\n",
       "      <td>2013</td>\n",
       "      <td>1</td>\n",
       "      <td>2</td>\n",
       "      <td>1</td>\n",
       "      <td>1</td>\n",
       "    </tr>\n",
       "    <tr>\n",
       "      <th>2</th>\n",
       "      <td>2013</td>\n",
       "      <td>1</td>\n",
       "      <td>3</td>\n",
       "      <td>1</td>\n",
       "      <td>1</td>\n",
       "    </tr>\n",
       "    <tr>\n",
       "      <th>3</th>\n",
       "      <td>2013</td>\n",
       "      <td>1</td>\n",
       "      <td>4</td>\n",
       "      <td>1</td>\n",
       "      <td>1</td>\n",
       "    </tr>\n",
       "    <tr>\n",
       "      <th>4</th>\n",
       "      <td>2013</td>\n",
       "      <td>1</td>\n",
       "      <td>5</td>\n",
       "      <td>1</td>\n",
       "      <td>1</td>\n",
       "    </tr>\n",
       "  </tbody>\n",
       "</table>\n",
       "</div>"
      ],
      "text/plain": [
       "   year  month  day  store  item\n",
       "0  2013      1    1      1     1\n",
       "1  2013      1    2      1     1\n",
       "2  2013      1    3      1     1\n",
       "3  2013      1    4      1     1\n",
       "4  2013      1    5      1     1"
      ]
     },
     "execution_count": 68,
     "metadata": {},
     "output_type": "execute_result"
    }
   ],
   "source": [
    "data_input.head()"
   ]
  },
  {
   "cell_type": "code",
   "execution_count": 160,
   "metadata": {},
   "outputs": [],
   "source": [
    "from keras import optimizers\n",
    "from keras.models import Sequential\n",
    "from keras.layers import Dense, Dropout\n",
    "from keras.utils import to_categorical"
   ]
  },
  {
   "cell_type": "code",
   "execution_count": 91,
   "metadata": {},
   "outputs": [],
   "source": [
    "def one_hot_encode(data, features, std=None):\n",
    "    if std is None:\n",
    "        res = to_categorical(data, num_classes=features)\n",
    "    else:\n",
    "        data_conv = data - std\n",
    "        res = to_categorical(data_conv, num_classes=features)\n",
    "    return res"
   ]
  },
  {
   "cell_type": "code",
   "execution_count": 98,
   "metadata": {},
   "outputs": [],
   "source": [
    "data_encoded = data_input.copy()"
   ]
  },
  {
   "cell_type": "code",
   "execution_count": 107,
   "metadata": {},
   "outputs": [],
   "source": [
    "year = one_hot_encode(data['year'], len(data['year'].unique())+1, std=2013)\n",
    "month = one_hot_encode(data['month'], len(data['month'].unique())+1)\n",
    "day = one_hot_encode(data['day'], len(data['day'].unique())+1)\n",
    "store = one_hot_encode(data['store'], len(data['store'].unique())+1)\n",
    "item = one_hot_encode(data['item'], len(data['item'].unique())+1)"
   ]
  },
  {
   "cell_type": "code",
   "execution_count": 106,
   "metadata": {},
   "outputs": [
    {
     "data": {
      "text/plain": [
       "array([[1., 0., 0., 0., 0., 0.],\n",
       "       [1., 0., 0., 0., 0., 0.],\n",
       "       [1., 0., 0., 0., 0., 0.],\n",
       "       ...,\n",
       "       [0., 0., 0., 0., 1., 0.],\n",
       "       [0., 0., 0., 0., 1., 0.],\n",
       "       [0., 0., 0., 0., 1., 0.]], dtype=float32)"
      ]
     },
     "execution_count": 106,
     "metadata": {},
     "output_type": "execute_result"
    }
   ],
   "source": [
    "one_hot_encode(data['year'], len(data['year'].unique())+1, std=2013)"
   ]
  },
  {
   "cell_type": "code",
   "execution_count": 124,
   "metadata": {},
   "outputs": [],
   "source": [
    "data_coded = np.concatenate([year,month,day,store,item], axis=1)"
   ]
  },
  {
   "cell_type": "code",
   "execution_count": 125,
   "metadata": {},
   "outputs": [
    {
     "data": {
      "text/plain": [
       "(913000, 113)"
      ]
     },
     "execution_count": 125,
     "metadata": {},
     "output_type": "execute_result"
    }
   ],
   "source": [
    "data_coded.shape"
   ]
  },
  {
   "cell_type": "code",
   "execution_count": 189,
   "metadata": {},
   "outputs": [],
   "source": [
    "model = Sequential()\n",
    "model.add(Dense(113, input_shape=(113,)))\n",
    "for i in range(5):\n",
    "    model.add(Dense(20, activation='relu'))\n",
    "    #model.add(Dropout(0.5))\n",
    "model.add(Dense(1, activation='relu'))\n",
    "#adam = optimizers.Adam(lr=0.001, beta_1=0.9, beta_2=0.999, epsilon=1e-8)\n",
    "model.compile(loss='mse', optimizer='adam', metrics=['mae'])"
   ]
  },
  {
   "cell_type": "code",
   "execution_count": 190,
   "metadata": {},
   "outputs": [
    {
     "name": "stdout",
     "output_type": "stream",
     "text": [
      "Train on 821610 samples, validate on 91290 samples\n",
      "Epoch 1/10\n",
      "821610/821610 [==============================] - 7s 9us/step - loss: 240.6905 - mean_absolute_error: 9.9943 - val_loss: 385.5312 - val_mean_absolute_error: 16.1399\n",
      "Epoch 2/10\n",
      "821610/821610 [==============================] - 6s 7us/step - loss: 109.8815 - mean_absolute_error: 7.9144 - val_loss: 386.6285 - val_mean_absolute_error: 16.1842\n",
      "Epoch 3/10\n",
      "821610/821610 [==============================] - 6s 7us/step - loss: 104.4594 - mean_absolute_error: 7.6631 - val_loss: 383.3494 - val_mean_absolute_error: 16.2245\n",
      "Epoch 4/10\n",
      "821610/821610 [==============================] - 6s 7us/step - loss: 80.1112 - mean_absolute_error: 6.7125 - val_loss: 347.0384 - val_mean_absolute_error: 15.5804\n",
      "Epoch 5/10\n",
      "821610/821610 [==============================] - 6s 7us/step - loss: 58.3437 - mean_absolute_error: 5.8587 - val_loss: 349.0948 - val_mean_absolute_error: 15.7064\n",
      "Epoch 6/10\n",
      "821610/821610 [==============================] - 6s 7us/step - loss: 56.3041 - mean_absolute_error: 5.7709 - val_loss: 348.4212 - val_mean_absolute_error: 15.5923\n",
      "Epoch 7/10\n",
      "821610/821610 [==============================] - 5s 7us/step - loss: 55.7910 - mean_absolute_error: 5.7458 - val_loss: 349.8420 - val_mean_absolute_error: 15.6578\n",
      "Epoch 8/10\n",
      "821610/821610 [==============================] - 6s 7us/step - loss: 55.3990 - mean_absolute_error: 5.7250 - val_loss: 351.4898 - val_mean_absolute_error: 15.5102\n",
      "Epoch 9/10\n",
      "821610/821610 [==============================] - 6s 7us/step - loss: 55.2637 - mean_absolute_error: 5.7188 - val_loss: 352.1680 - val_mean_absolute_error: 15.5647\n",
      "Epoch 10/10\n",
      "821610/821610 [==============================] - 6s 7us/step - loss: 55.0013 - mean_absolute_error: 5.7068 - val_loss: 354.7543 - val_mean_absolute_error: 15.7046\n"
     ]
    },
    {
     "data": {
      "text/plain": [
       "<keras.callbacks.History at 0x1fbdd1f98>"
      ]
     },
     "execution_count": 190,
     "metadata": {},
     "output_type": "execute_result"
    }
   ],
   "source": [
    "model.fit(train_input, train_label, batch_size=512, epochs=10, verbose=1, validation_split=0.1)"
   ]
  },
  {
   "cell_type": "code",
   "execution_count": 184,
   "metadata": {},
   "outputs": [],
   "source": [
    "#원핫을 하고 한번 안하고 한번 해보자 -로스만 높음\n",
    "#validation도.. -\n",
    "train_input, test_input = data_coded[:-100], data_coded[-100:]\n",
    "train_label, test_label = data_label[:-100], data_label[-100:]"
   ]
  },
  {
   "cell_type": "code",
   "execution_count": 193,
   "metadata": {},
   "outputs": [
    {
     "data": {
      "text/plain": [
       "array([[69.28128 ],\n",
       "       [74.20982 ],\n",
       "       [47.74551 ],\n",
       "       [55.92093 ],\n",
       "       [57.221344],\n",
       "       [60.459805],\n",
       "       [65.027534],\n",
       "       [69.75589 ],\n",
       "       [69.038895],\n",
       "       [44.15879 ],\n",
       "       [50.969494],\n",
       "       [53.447784],\n",
       "       [57.27062 ],\n",
       "       [59.766926],\n",
       "       [63.875305],\n",
       "       [68.29971 ],\n",
       "       [43.050163],\n",
       "       [50.553123],\n",
       "       [53.449306],\n",
       "       [56.208874],\n",
       "       [59.66091 ],\n",
       "       [64.193   ],\n",
       "       [68.50417 ],\n",
       "       [43.569042],\n",
       "       [51.277008],\n",
       "       [52.765102],\n",
       "       [56.701412],\n",
       "       [58.860596],\n",
       "       [64.33486 ],\n",
       "       [68.44015 ],\n",
       "       [43.018894],\n",
       "       [50.641388],\n",
       "       [53.855965],\n",
       "       [56.703583],\n",
       "       [59.011337],\n",
       "       [64.16547 ],\n",
       "       [68.94859 ],\n",
       "       [42.907043],\n",
       "       [50.24595 ],\n",
       "       [58.062553],\n",
       "       [62.378357],\n",
       "       [67.50162 ],\n",
       "       [72.99151 ],\n",
       "       [71.365456],\n",
       "       [53.141   ],\n",
       "       [55.93279 ],\n",
       "       [57.562775],\n",
       "       [62.674656],\n",
       "       [66.70449 ],\n",
       "       [73.220856],\n",
       "       [74.3803  ],\n",
       "       [52.25461 ],\n",
       "       [56.445904],\n",
       "       [58.141323],\n",
       "       [62.497417],\n",
       "       [67.59198 ],\n",
       "       [72.62717 ],\n",
       "       [74.33192 ],\n",
       "       [51.390106],\n",
       "       [55.866   ],\n",
       "       [58.08919 ],\n",
       "       [61.985603],\n",
       "       [66.61601 ],\n",
       "       [74.57477 ],\n",
       "       [74.8466  ],\n",
       "       [51.57434 ],\n",
       "       [55.997276],\n",
       "       [58.322018],\n",
       "       [62.063965],\n",
       "       [45.304955],\n",
       "       [48.415924],\n",
       "       [51.411633],\n",
       "       [31.756193],\n",
       "       [37.59224 ],\n",
       "       [38.82825 ],\n",
       "       [42.980644],\n",
       "       [44.544373],\n",
       "       [48.00235 ],\n",
       "       [50.5253  ],\n",
       "       [32.09677 ],\n",
       "       [36.637035],\n",
       "       [38.71716 ],\n",
       "       [43.238094],\n",
       "       [45.381493],\n",
       "       [48.186516],\n",
       "       [51.295662],\n",
       "       [31.758862],\n",
       "       [37.03098 ],\n",
       "       [37.87072 ],\n",
       "       [42.80533 ],\n",
       "       [44.480423],\n",
       "       [48.33352 ],\n",
       "       [51.2752  ],\n",
       "       [32.256813],\n",
       "       [37.424145],\n",
       "       [38.031   ],\n",
       "       [42.715954],\n",
       "       [45.327248],\n",
       "       [48.017933],\n",
       "       [51.400402]], dtype=float32)"
      ]
     },
     "execution_count": 193,
     "metadata": {},
     "output_type": "execute_result"
    }
   ],
   "source": [
    "prediction = model.predict(test_input)"
   ]
  },
  {
   "cell_type": "code",
   "execution_count": 194,
   "metadata": {},
   "outputs": [
    {
     "data": {
      "text/plain": [
       "912900     97\n",
       "912901     99\n",
       "912902     63\n",
       "912903     79\n",
       "912904     80\n",
       "912905     82\n",
       "912906     90\n",
       "912907    103\n",
       "912908     99\n",
       "912909     71\n",
       "912910     77\n",
       "912911     87\n",
       "912912     78\n",
       "912913     85\n",
       "912914    113\n",
       "912915     91\n",
       "912916     69\n",
       "912917     69\n",
       "912918     69\n",
       "912919     84\n",
       "912920     81\n",
       "912921     97\n",
       "912922    107\n",
       "912923     77\n",
       "912924     68\n",
       "912925     73\n",
       "912926     72\n",
       "912927     78\n",
       "912928     78\n",
       "912929     96\n",
       "         ... \n",
       "912970     49\n",
       "912971     75\n",
       "912972     54\n",
       "912973     68\n",
       "912974     60\n",
       "912975     66\n",
       "912976     67\n",
       "912977     69\n",
       "912978     69\n",
       "912979     54\n",
       "912980     67\n",
       "912981     67\n",
       "912982     72\n",
       "912983     72\n",
       "912984     52\n",
       "912985     86\n",
       "912986     53\n",
       "912987     54\n",
       "912988     51\n",
       "912989     63\n",
       "912990     75\n",
       "912991     70\n",
       "912992     76\n",
       "912993     51\n",
       "912994     41\n",
       "912995     63\n",
       "912996     59\n",
       "912997     74\n",
       "912998     62\n",
       "912999     82\n",
       "Name: sales, Length: 100, dtype: int64"
      ]
     },
     "execution_count": 194,
     "metadata": {},
     "output_type": "execute_result"
    }
   ],
   "source": [
    "test_label"
   ]
  },
  {
   "cell_type": "code",
   "execution_count": null,
   "metadata": {},
   "outputs": [],
   "source": []
  }
 ],
 "metadata": {
  "kernelspec": {
   "display_name": "Python 3",
   "language": "python",
   "name": "python3"
  },
  "language_info": {
   "codemirror_mode": {
    "name": "ipython",
    "version": 3
   },
   "file_extension": ".py",
   "mimetype": "text/x-python",
   "name": "python",
   "nbconvert_exporter": "python",
   "pygments_lexer": "ipython3",
   "version": "3.6.1"
  }
 },
 "nbformat": 4,
 "nbformat_minor": 2
}
