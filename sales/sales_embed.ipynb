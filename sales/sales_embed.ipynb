{
 "cells": [
  {
   "cell_type": "code",
   "execution_count": 1,
   "metadata": {},
   "outputs": [],
   "source": [
    "import numpy as np\n",
    "import pandas as pd\n",
    "import matplotlib.pyplot as plt\n",
    "from sklearn.model_selection import train_test_split"
   ]
  },
  {
   "cell_type": "code",
   "execution_count": null,
   "metadata": {},
   "outputs": [],
   "source": [
    "#http://machinelearningmechanic.com/keras/2018/03/10/keras-regression-with-categorical-variable-embeddings-md.html\n",
    "#https://www.kaggle.com/rezas26/simple-keras-starter\n",
    "#https://medium.com/@satnalikamayank12/on-learning-embeddings-for-categorical-data-using-keras-165ff2773fc9"
   ]
  },
  {
   "cell_type": "code",
   "execution_count": 2,
   "metadata": {},
   "outputs": [],
   "source": [
    "train = pd.read_csv('train.csv')\n",
    "test = pd.read_csv('test.csv')"
   ]
  },
  {
   "cell_type": "code",
   "execution_count": 3,
   "metadata": {},
   "outputs": [
    {
     "name": "stdout",
     "output_type": "stream",
     "text": [
      "(913000, 4)\n",
      "(45000, 4)\n"
     ]
    }
   ],
   "source": [
    "print(train.shape)\n",
    "print(test.shape)"
   ]
  },
  {
   "cell_type": "code",
   "execution_count": 4,
   "metadata": {},
   "outputs": [],
   "source": [
    "def convert_dates(x):\n",
    "    x['date'] = pd.to_datetime(x['date'])\n",
    "    x['month'] = x['date'].dt.month\n",
    "    x['year'] = x['date'].dt.year\n",
    "    x['dayofweek'] = x['date'].dt.dayofweek\n",
    "    x['week'] = x['date'].dt.week\n",
    "    x.pop('date')\n",
    "    return x\n",
    "train = convert_dates(train)\n",
    "test = convert_dates(test)"
   ]
  },
  {
   "cell_type": "code",
   "execution_count": 5,
   "metadata": {},
   "outputs": [],
   "source": [
    "train_x, val_x, train_y, val_y = train_test_split(train.drop('sales',axis=1),train.pop('sales'),random_state=123,test_size=0.2)"
   ]
  },
  {
   "cell_type": "code",
   "execution_count": 6,
   "metadata": {},
   "outputs": [
    {
     "data": {
      "text/html": [
       "<div>\n",
       "<style scoped>\n",
       "    .dataframe tbody tr th:only-of-type {\n",
       "        vertical-align: middle;\n",
       "    }\n",
       "\n",
       "    .dataframe tbody tr th {\n",
       "        vertical-align: top;\n",
       "    }\n",
       "\n",
       "    .dataframe thead th {\n",
       "        text-align: right;\n",
       "    }\n",
       "</style>\n",
       "<table border=\"1\" class=\"dataframe\">\n",
       "  <thead>\n",
       "    <tr style=\"text-align: right;\">\n",
       "      <th></th>\n",
       "      <th>store</th>\n",
       "      <th>item</th>\n",
       "      <th>month</th>\n",
       "      <th>year</th>\n",
       "      <th>dayofweek</th>\n",
       "      <th>week</th>\n",
       "    </tr>\n",
       "  </thead>\n",
       "  <tbody>\n",
       "    <tr>\n",
       "      <th>434364</th>\n",
       "      <td>8</td>\n",
       "      <td>24</td>\n",
       "      <td>5</td>\n",
       "      <td>2017</td>\n",
       "      <td>0</td>\n",
       "      <td>21</td>\n",
       "    </tr>\n",
       "    <tr>\n",
       "      <th>619219</th>\n",
       "      <td>10</td>\n",
       "      <td>34</td>\n",
       "      <td>7</td>\n",
       "      <td>2013</td>\n",
       "      <td>3</td>\n",
       "      <td>30</td>\n",
       "    </tr>\n",
       "    <tr>\n",
       "      <th>63814</th>\n",
       "      <td>5</td>\n",
       "      <td>4</td>\n",
       "      <td>9</td>\n",
       "      <td>2017</td>\n",
       "      <td>2</td>\n",
       "      <td>39</td>\n",
       "    </tr>\n",
       "    <tr>\n",
       "      <th>147213</th>\n",
       "      <td>1</td>\n",
       "      <td>9</td>\n",
       "      <td>2</td>\n",
       "      <td>2016</td>\n",
       "      <td>0</td>\n",
       "      <td>6</td>\n",
       "    </tr>\n",
       "    <tr>\n",
       "      <th>255546</th>\n",
       "      <td>10</td>\n",
       "      <td>14</td>\n",
       "      <td>9</td>\n",
       "      <td>2017</td>\n",
       "      <td>4</td>\n",
       "      <td>39</td>\n",
       "    </tr>\n",
       "  </tbody>\n",
       "</table>\n",
       "</div>"
      ],
      "text/plain": [
       "        store  item  month  year  dayofweek  week\n",
       "434364      8    24      5  2017          0    21\n",
       "619219     10    34      7  2013          3    30\n",
       "63814       5     4      9  2017          2    39\n",
       "147213      1     9      2  2016          0     6\n",
       "255546     10    14      9  2017          4    39"
      ]
     },
     "execution_count": 6,
     "metadata": {},
     "output_type": "execute_result"
    }
   ],
   "source": [
    "train_x.head()"
   ]
  },
  {
   "cell_type": "code",
   "execution_count": 7,
   "metadata": {},
   "outputs": [],
   "source": [
    "cat_features = list(train_x.columns)"
   ]
  },
  {
   "cell_type": "code",
   "execution_count": 8,
   "metadata": {},
   "outputs": [
    {
     "data": {
      "text/plain": [
       "['store', 'item', 'month', 'year', 'dayofweek', 'week']"
      ]
     },
     "execution_count": 8,
     "metadata": {},
     "output_type": "execute_result"
    }
   ],
   "source": [
    "cat_features"
   ]
  },
  {
   "cell_type": "code",
   "execution_count": 9,
   "metadata": {},
   "outputs": [],
   "source": [
    "def make_categorical_input(df, cat_list):\n",
    "    sample_list = []\n",
    "    for cat in cat_list:\n",
    "        if np.min(df[cat]) > 1:\n",
    "            sample_list.append(df[cat].values - np.min(df[cat]))\n",
    "        else:\n",
    "            sample_list.append(df[cat].values)\n",
    "    \n",
    "    return sample_list"
   ]
  },
  {
   "cell_type": "code",
   "execution_count": 10,
   "metadata": {},
   "outputs": [],
   "source": [
    "x_train = make_categorical_input(train_x, cat_features)\n",
    "x_val = make_categorical_input(val_x, cat_features)\n",
    "x_test = make_categorical_input(test, cat_features)"
   ]
  },
  {
   "cell_type": "code",
   "execution_count": 11,
   "metadata": {},
   "outputs": [
    {
     "data": {
      "text/plain": [
       "[array([ 8, 10,  5, ...,  6,  3,  4]),\n",
       " array([24, 34,  4, ...,  2, 16, 43]),\n",
       " array([ 5,  7,  9, ..., 10, 11,  5]),\n",
       " array([4, 0, 4, ..., 1, 0, 3]),\n",
       " array([0, 3, 2, ..., 4, 3, 1]),\n",
       " array([21, 30, 39, ..., 40, 46, 20])]"
      ]
     },
     "execution_count": 11,
     "metadata": {},
     "output_type": "execute_result"
    }
   ],
   "source": [
    "#역시 1의 y shape를 가진 6개의 어레이로 만든거군\n",
    "x_train"
   ]
  },
  {
   "cell_type": "code",
   "execution_count": 13,
   "metadata": {},
   "outputs": [
    {
     "name": "stderr",
     "output_type": "stream",
     "text": [
      "Using TensorFlow backend.\n"
     ]
    }
   ],
   "source": [
    "from keras.models import Sequential,Model\n",
    "from keras.layers import Input, Embedding, Reshape, Concatenate, Dense\n",
    "import keras.backend as K"
   ]
  },
  {
   "cell_type": "code",
   "execution_count": 31,
   "metadata": {},
   "outputs": [],
   "source": [
    "def custom_smape(x, x_):\n",
    "    return K.mean(2*K.abs(x-x_)/(K.abs(x)+K.abs(x_)))\n",
    "#x, x_ : y_true, y_pred"
   ]
  },
  {
   "cell_type": "code",
   "execution_count": 37,
   "metadata": {},
   "outputs": [],
   "source": [
    "models = []\n",
    "input_list = []\n",
    "for cat in cat_features:\n",
    "    n_unique_cats = train_x[cat].nunique()\n",
    "    embedding_size = int(min(np.ceil((n_unique_cats)/2), 50 ))\n",
    "    inputs = Input(shape=(1,), dtype='int32')\n",
    "    embedding_layer = Embedding(n_unique_cats+1, embedding_size, input_length=1)(inputs)\n",
    "    embedding_layer = Reshape((embedding_size,))(embedding_layer)\n",
    "    \n",
    "    input_list.append(inputs)\n",
    "    models.append(embedding_layer)"
   ]
  },
  {
   "cell_type": "code",
   "execution_count": 38,
   "metadata": {},
   "outputs": [],
   "source": [
    "full_model = Concatenate()(models)\n",
    "dense1 = Dense(units=100, activation='relu')(full_model)\n",
    "predictions = Dense(1)(dense1)"
   ]
  },
  {
   "cell_type": "code",
   "execution_count": 39,
   "metadata": {},
   "outputs": [
    {
     "name": "stdout",
     "output_type": "stream",
     "text": [
      "__________________________________________________________________________________________________\n",
      "Layer (type)                    Output Shape         Param #     Connected to                     \n",
      "==================================================================================================\n",
      "input_25 (InputLayer)           (None, 1)            0                                            \n",
      "__________________________________________________________________________________________________\n",
      "input_26 (InputLayer)           (None, 1)            0                                            \n",
      "__________________________________________________________________________________________________\n",
      "input_27 (InputLayer)           (None, 1)            0                                            \n",
      "__________________________________________________________________________________________________\n",
      "input_28 (InputLayer)           (None, 1)            0                                            \n",
      "__________________________________________________________________________________________________\n",
      "input_29 (InputLayer)           (None, 1)            0                                            \n",
      "__________________________________________________________________________________________________\n",
      "input_30 (InputLayer)           (None, 1)            0                                            \n",
      "__________________________________________________________________________________________________\n",
      "embedding_25 (Embedding)        (None, 1, 5)         55          input_25[0][0]                   \n",
      "__________________________________________________________________________________________________\n",
      "embedding_26 (Embedding)        (None, 1, 25)        1275        input_26[0][0]                   \n",
      "__________________________________________________________________________________________________\n",
      "embedding_27 (Embedding)        (None, 1, 6)         78          input_27[0][0]                   \n",
      "__________________________________________________________________________________________________\n",
      "embedding_28 (Embedding)        (None, 1, 3)         18          input_28[0][0]                   \n",
      "__________________________________________________________________________________________________\n",
      "embedding_29 (Embedding)        (None, 1, 4)         32          input_29[0][0]                   \n",
      "__________________________________________________________________________________________________\n",
      "embedding_30 (Embedding)        (None, 1, 27)        1458        input_30[0][0]                   \n",
      "__________________________________________________________________________________________________\n",
      "reshape_25 (Reshape)            (None, 5)            0           embedding_25[0][0]               \n",
      "__________________________________________________________________________________________________\n",
      "reshape_26 (Reshape)            (None, 25)           0           embedding_26[0][0]               \n",
      "__________________________________________________________________________________________________\n",
      "reshape_27 (Reshape)            (None, 6)            0           embedding_27[0][0]               \n",
      "__________________________________________________________________________________________________\n",
      "reshape_28 (Reshape)            (None, 3)            0           embedding_28[0][0]               \n",
      "__________________________________________________________________________________________________\n",
      "reshape_29 (Reshape)            (None, 4)            0           embedding_29[0][0]               \n",
      "__________________________________________________________________________________________________\n",
      "reshape_30 (Reshape)            (None, 27)           0           embedding_30[0][0]               \n",
      "__________________________________________________________________________________________________\n",
      "concatenate_5 (Concatenate)     (None, 70)           0           reshape_25[0][0]                 \n",
      "                                                                 reshape_26[0][0]                 \n",
      "                                                                 reshape_27[0][0]                 \n",
      "                                                                 reshape_28[0][0]                 \n",
      "                                                                 reshape_29[0][0]                 \n",
      "                                                                 reshape_30[0][0]                 \n",
      "__________________________________________________________________________________________________\n",
      "dense_9 (Dense)                 (None, 100)          7100        concatenate_5[0][0]              \n",
      "__________________________________________________________________________________________________\n",
      "dense_10 (Dense)                (None, 1)            101         dense_9[0][0]                    \n",
      "==================================================================================================\n",
      "Total params: 10,117\n",
      "Trainable params: 10,117\n",
      "Non-trainable params: 0\n",
      "__________________________________________________________________________________________________\n"
     ]
    }
   ],
   "source": [
    "model = Model(inputs=input_list, outputs=predictions)\n",
    "\n",
    "model.summary()\n",
    "model.compile('adam', loss=custom_smape)"
   ]
  },
  {
   "cell_type": "code",
   "execution_count": 41,
   "metadata": {},
   "outputs": [
    {
     "name": "stdout",
     "output_type": "stream",
     "text": [
      "Train on 584320 samples, validate on 146080 samples\n",
      "Epoch 1/5\n",
      "584320/584320 [==============================] - 33s 57us/step - loss: 0.1270 - val_loss: 0.1268\n",
      "Epoch 2/5\n",
      "584320/584320 [==============================] - 31s 52us/step - loss: 0.1269 - val_loss: 0.1271\n",
      "Epoch 3/5\n",
      "584320/584320 [==============================] - 32s 54us/step - loss: 0.1268 - val_loss: 0.1270\n",
      "Epoch 4/5\n",
      "584320/584320 [==============================] - 33s 57us/step - loss: 0.1267 - val_loss: 0.1272\n",
      "Epoch 5/5\n",
      "584320/584320 [==============================] - 31s 54us/step - loss: 0.1267 - val_loss: 0.1286\n"
     ]
    }
   ],
   "source": [
    "hist = model.fit(x_train, train_y, batch_size=32, epochs=5, verbose=1, validation_split=0.2)"
   ]
  },
  {
   "cell_type": "code",
   "execution_count": 42,
   "metadata": {},
   "outputs": [
    {
     "name": "stdout",
     "output_type": "stream",
     "text": [
      "182600/182600 [==============================] - 4s 21us/step\n"
     ]
    },
    {
     "data": {
      "text/plain": [
       "0.12820987020499866"
      ]
     },
     "execution_count": 42,
     "metadata": {},
     "output_type": "execute_result"
    }
   ],
   "source": [
    "model.evaluate(x_val, val_y)"
   ]
  },
  {
   "cell_type": "code",
   "execution_count": null,
   "metadata": {},
   "outputs": [],
   "source": [
    "#mse를 사용한 50의 loss와 mae를 사용한 5의 loss는 같은 것인가? 다른 것인가?"
   ]
  },
  {
   "cell_type": "code",
   "execution_count": null,
   "metadata": {},
   "outputs": [],
   "source": []
  }
 ],
 "metadata": {
  "kernelspec": {
   "display_name": "Python 3",
   "language": "python",
   "name": "python3"
  },
  "language_info": {
   "codemirror_mode": {
    "name": "ipython",
    "version": 3
   },
   "file_extension": ".py",
   "mimetype": "text/x-python",
   "name": "python",
   "nbconvert_exporter": "python",
   "pygments_lexer": "ipython3",
   "version": "3.6.1"
  }
 },
 "nbformat": 4,
 "nbformat_minor": 2
}
